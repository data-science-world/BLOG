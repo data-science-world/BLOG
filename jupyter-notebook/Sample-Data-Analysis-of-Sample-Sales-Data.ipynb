{
 "cells": [
  {
   "cell_type": "markdown",
   "metadata": {},
   "source": [
    "## Questions\n",
    "- How many customers have purchased shoes?\n",
    "- How many customers have purchased belts?\n",
    "- How many customers purchased shoes but not belts?\n",
    "- Which customers have purchases shoes, belts and shirts?"
   ]
  },
  {
   "cell_type": "code",
   "execution_count": 58,
   "metadata": {},
   "outputs": [],
   "source": [
    "import pandas as pd\n",
    "from functools import reduce\n",
    "import numpy as np\n",
    "from IPython.core.interactiveshell import InteractiveShell\n",
    "InteractiveShell.ast_node_interactivity = 'all'"
   ]
  },
  {
   "cell_type": "code",
   "execution_count": 2,
   "metadata": {
    "scrolled": false
   },
   "outputs": [
    {
     "data": {
      "text/html": [
       "<div>\n",
       "<style scoped>\n",
       "    .dataframe tbody tr th:only-of-type {\n",
       "        vertical-align: middle;\n",
       "    }\n",
       "\n",
       "    .dataframe tbody tr th {\n",
       "        vertical-align: top;\n",
       "    }\n",
       "\n",
       "    .dataframe thead th {\n",
       "        text-align: right;\n",
       "    }\n",
       "</style>\n",
       "<table border=\"1\" class=\"dataframe\">\n",
       "  <thead>\n",
       "    <tr style=\"text-align: right;\">\n",
       "      <th></th>\n",
       "      <th>Account Number</th>\n",
       "      <th>Account Name</th>\n",
       "      <th>sku</th>\n",
       "      <th>category</th>\n",
       "      <th>quantity</th>\n",
       "      <th>unit price</th>\n",
       "      <th>ext price</th>\n",
       "      <th>date</th>\n",
       "    </tr>\n",
       "  </thead>\n",
       "  <tbody>\n",
       "    <tr>\n",
       "      <th>0</th>\n",
       "      <td>803666</td>\n",
       "      <td>Fritsch-Glover</td>\n",
       "      <td>HX-24728</td>\n",
       "      <td>Belt</td>\n",
       "      <td>1</td>\n",
       "      <td>98.98</td>\n",
       "      <td>98.98</td>\n",
       "      <td>2014-09-28 11:56:02</td>\n",
       "    </tr>\n",
       "    <tr>\n",
       "      <th>1</th>\n",
       "      <td>64898</td>\n",
       "      <td>O'Conner Inc</td>\n",
       "      <td>LK-02338</td>\n",
       "      <td>Shirt</td>\n",
       "      <td>9</td>\n",
       "      <td>34.80</td>\n",
       "      <td>313.20</td>\n",
       "      <td>2014-04-24 16:51:22</td>\n",
       "    </tr>\n",
       "    <tr>\n",
       "      <th>2</th>\n",
       "      <td>423621</td>\n",
       "      <td>Beatty and Sons</td>\n",
       "      <td>ZC-07383</td>\n",
       "      <td>Shirt</td>\n",
       "      <td>12</td>\n",
       "      <td>60.24</td>\n",
       "      <td>722.88</td>\n",
       "      <td>2014-09-17 17:26:22</td>\n",
       "    </tr>\n",
       "    <tr>\n",
       "      <th>3</th>\n",
       "      <td>137865</td>\n",
       "      <td>Gleason, Bogisich and Franecki</td>\n",
       "      <td>QS-76400</td>\n",
       "      <td>Shirt</td>\n",
       "      <td>5</td>\n",
       "      <td>15.25</td>\n",
       "      <td>76.25</td>\n",
       "      <td>2014-01-30 07:34:02</td>\n",
       "    </tr>\n",
       "    <tr>\n",
       "      <th>4</th>\n",
       "      <td>435433</td>\n",
       "      <td>Morissette-Heathcote</td>\n",
       "      <td>RU-25060</td>\n",
       "      <td>Shirt</td>\n",
       "      <td>19</td>\n",
       "      <td>51.83</td>\n",
       "      <td>984.77</td>\n",
       "      <td>2014-08-24 06:18:12</td>\n",
       "    </tr>\n",
       "  </tbody>\n",
       "</table>\n",
       "</div>"
      ],
      "text/plain": [
       "   Account Number                    Account Name       sku category  \\\n",
       "0          803666                  Fritsch-Glover  HX-24728     Belt   \n",
       "1           64898                    O'Conner Inc  LK-02338    Shirt   \n",
       "2          423621                 Beatty and Sons  ZC-07383    Shirt   \n",
       "3          137865  Gleason, Bogisich and Franecki  QS-76400    Shirt   \n",
       "4          435433            Morissette-Heathcote  RU-25060    Shirt   \n",
       "\n",
       "   quantity  unit price  ext price                 date  \n",
       "0         1       98.98      98.98  2014-09-28 11:56:02  \n",
       "1         9       34.80     313.20  2014-04-24 16:51:22  \n",
       "2        12       60.24     722.88  2014-09-17 17:26:22  \n",
       "3         5       15.25      76.25  2014-01-30 07:34:02  \n",
       "4        19       51.83     984.77  2014-08-24 06:18:12  "
      ]
     },
     "execution_count": 2,
     "metadata": {},
     "output_type": "execute_result"
    },
    {
     "data": {
      "text/plain": [
       "725"
      ]
     },
     "execution_count": 2,
     "metadata": {},
     "output_type": "execute_result"
    },
    {
     "data": {
      "text/plain": [
       "718"
      ]
     },
     "execution_count": 2,
     "metadata": {},
     "output_type": "execute_result"
    },
    {
     "data": {
      "text/plain": [
       "array(['Belt', 'Shirt', 'Shoes'], dtype=object)"
      ]
     },
     "execution_count": 2,
     "metadata": {},
     "output_type": "execute_result"
    },
    {
     "name": "stdout",
     "output_type": "stream",
     "text": [
      "<class 'pandas.core.frame.DataFrame'>\n",
      "RangeIndex: 1000 entries, 0 to 999\n",
      "Data columns (total 8 columns):\n",
      "Account Number    1000 non-null int64\n",
      "Account Name      1000 non-null object\n",
      "sku               1000 non-null object\n",
      "category          1000 non-null object\n",
      "quantity          1000 non-null int64\n",
      "unit price        1000 non-null float64\n",
      "ext price         1000 non-null float64\n",
      "date              1000 non-null object\n",
      "dtypes: float64(2), int64(2), object(4)\n",
      "memory usage: 62.6+ KB\n"
     ]
    }
   ],
   "source": [
    "sales = pd.read_csv('./data/sales.csv')\n",
    "sales.head()\n",
    "len(sales['Account Number'].unique())\n",
    "len(sales['Account Name'].unique())\n",
    "sales.category.unique()\n",
    "sales.info()"
   ]
  },
  {
   "cell_type": "code",
   "execution_count": 5,
   "metadata": {},
   "outputs": [
    {
     "name": "stdout",
     "output_type": "stream",
     "text": [
      "There are 271 customers have purchased shoes.\n",
      "There are 170 customers have purchased Belt.\n"
     ]
    }
   ],
   "source": [
    "print('There are', len(sales.loc[sales['category'] == 'Shoes', 'Account Number'].unique()),'customers have purchased shoes.')\n",
    "print('There are', len(sales.loc[sales['category'] == 'Belt', 'Account Number'].unique()), 'customers have purchased Belt.')"
   ]
  },
  {
   "cell_type": "code",
   "execution_count": 35,
   "metadata": {
    "scrolled": false
   },
   "outputs": [
    {
     "data": {
      "text/plain": [
       "271"
      ]
     },
     "execution_count": 35,
     "metadata": {},
     "output_type": "execute_result"
    },
    {
     "data": {
      "text/plain": [
       "170"
      ]
     },
     "execution_count": 35,
     "metadata": {},
     "output_type": "execute_result"
    },
    {
     "data": {
      "text/plain": [
       "442"
      ]
     },
     "execution_count": 35,
     "metadata": {},
     "output_type": "execute_result"
    },
    {
     "data": {
      "text/plain": [
       "634"
      ]
     },
     "execution_count": 35,
     "metadata": {},
     "output_type": "execute_result"
    }
   ],
   "source": [
    "shoes = sales.loc[sales['category'] == 'Shoes', 'Account Number'].unique()\n",
    "len(shoes)\n",
    "belt = sales.loc[sales['category'] == 'Belt', 'Account Number'].unique()\n",
    "len(belt)\n",
    "shirt = sales.loc[sales['category'] == 'Shirt', 'Account Number'].unique()\n",
    "len(shirt)\n",
    "not_belt = sales.loc[sales['category'] != 'Belt', 'Account Number'].unique()\n",
    "len(not_belt)"
   ]
  },
  {
   "cell_type": "code",
   "execution_count": 34,
   "metadata": {
    "scrolled": false
   },
   "outputs": [
    {
     "name": "stdout",
     "output_type": "stream",
     "text": [
      "There are 240 purchased shoes but not belt.\n"
     ]
    }
   ],
   "source": [
    "print('There are', len(sales.loc[sales['category'] == 'Shoes', 'Account Number'].unique()) - not_belt.isin(shoes).value_counts()[True], 'purchased shoes but not belt.')"
   ]
  },
  {
   "cell_type": "code",
   "execution_count": 63,
   "metadata": {},
   "outputs": [
    {
     "name": "stdout",
     "output_type": "stream",
     "text": [
      "These are most valued customers cause they purchased all kinds of goods in our shop: \n",
      "Fritsch-Glover\n",
      "Upton, Runolfsson and O'Reilly\n",
      "Kuvalis-Roberts\n",
      "Mills Inc\n",
      "Halvorson PLC\n",
      "Koepp-McLaughlin\n",
      "Bashirian, Beier and Watsica\n",
      "Beier-Bosco\n",
      "Ledner-Kling\n"
     ]
    }
   ],
   "source": [
    "# most_valued_customers_number = set(shoes) & set(belt) & set(shirt) # method 1\n",
    "# most_valued_customers_number = reduce(np.intersect1d, (shoes, belt, shirt)) # method 2\n",
    "most_valued_customers_number = [x for x in shoes if x in belt and x in shirt] # method 3\n",
    "print('These are most valued customers cause they purchased all kinds of goods in our shop: ')\n",
    "customer_names = sales.loc[sales['Account Number'].isin(list(most_valued_customers_number)), 'Account Name'].unique()\n",
    "for customer_name in customer_names:\n",
    "    print(customer_name, sep=',')"
   ]
  },
  {
   "cell_type": "code",
   "execution_count": 60,
   "metadata": {
    "scrolled": false
   },
   "outputs": [
    {
     "name": "stdout",
     "output_type": "stream",
     "text": [
      "271 customers have purchased shoes\n",
      "170 customers have purchased belts\n",
      "240 customers have purchased shoes but not belts\n",
      "31 customers have purchased shoes and belts\n",
      "79 customers have purchases shoes and shirts\n",
      "9 customers have purchased shoes, belts and shirts\n",
      "The following customers are our most valued. They have purchased shoes & belts & shirts:\n",
      "('004450', 'Beier-Bosco')\n",
      "('151300', \"Upton, Runolfsson and O'Reilly\")\n",
      "('803666', 'Fritsch-Glover')\n",
      "('434955', 'Ledner-Kling')\n",
      "('041711', 'Koepp-McLaughlin')\n",
      "('727064', 'Bashirian, Beier and Watsica')\n",
      "('343481', 'Mills Inc')\n",
      "('527078', 'Kuvalis-Roberts')\n",
      "('173693', 'Halvorson PLC')\n"
     ]
    }
   ],
   "source": [
    "# https://pbpython.com/data-analysis-with-sets.html\n",
    "\n",
    "import csv\n",
    "\n",
    "f = open(\"./data/sales.csv\")\n",
    "reader = csv.reader(f)\n",
    "shoes = set()\n",
    "belts = set()\n",
    "shirts = set()\n",
    "for row in reader:\n",
    "        customer = (row[0], row[1])\n",
    "        category = row[3]\n",
    "        if category == \"Shoes\":\n",
    "                shoes.add(customer)\n",
    "        if category == \"Belt\":\n",
    "                belts.add(customer)\n",
    "        if category == \"Shirt\":\n",
    "                shirts.add(customer)\n",
    "f.close()\n",
    "\n",
    "print(\"%s customers have purchased shoes\" % len(shoes))\n",
    "print(\"%s customers have purchased belts\" % len(belts))\n",
    "print(\"%s customers have purchased shoes but not belts\" % len(shoes - belts))\n",
    "print(\"%s customers have purchased shoes and belts\" % len(shoes & belts))\n",
    "print(\"%s customers have purchases shoes and shirts\" % len(shoes & shirts))\n",
    "print(\"%s customers have purchased shoes, belts and shirts\" % len(shoes & belts & shirts))\n",
    "print(\"The following customers are our most valued. They have purchased shoes & belts & shirts:\")\n",
    "for customer in shoes & belts & shirts:\n",
    "        print(customer)"
   ]
  }
 ],
 "metadata": {
  "kernelspec": {
   "display_name": "Python 3",
   "language": "python",
   "name": "python3"
  },
  "language_info": {
   "codemirror_mode": {
    "name": "ipython",
    "version": 3
   },
   "file_extension": ".py",
   "mimetype": "text/x-python",
   "name": "python",
   "nbconvert_exporter": "python",
   "pygments_lexer": "ipython3",
   "version": "3.7.0"
  }
 },
 "nbformat": 4,
 "nbformat_minor": 2
}
